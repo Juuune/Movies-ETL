{
 "cells": [
  {
   "cell_type": "code",
   "execution_count": 1,
   "metadata": {},
   "outputs": [],
   "source": [
    "import json\n",
    "import pandas as pd\n",
    "import numpy as np\n",
    "import re\n",
    "import sqlalchemy\n",
    "from sqlalchemy import create_engine\n",
    "from config import db_password\n",
    "import time"
   ]
  },
  {
   "cell_type": "code",
   "execution_count": 239,
   "metadata": {},
   "outputs": [],
   "source": [
    "# Create a function that takes in three arguments\n",
    "\n",
    "def etl_auto(wiki, kaggle):\n",
    "    file_dir = 'C:/Users/shula/OneDrive/Desktop/UCB_Data_052020/UCB-202005-downloads/data'\n",
    "    \n",
    "    # Extract data from multiple sources \n",
    "    \n",
    "    try:\n",
    "        kaggle_df = pd.read_csv(f'{file_dir}/{kaggle}.csv', low_memory = False) \n",
    "        print('kaggle data converted')\n",
    "        #rating_df = pd.read_csv(f'{file_dir}/{rating}.csv', low_memory = False)       \n",
    "        #print('rating data converted')\n",
    "        wiki_df = pd.read_csv(f'{file_dir}/{wiki}.csv', low_memory = False)   \n",
    "        print('wiki data converted')\n",
    "    except FileNotFoundError:    \n",
    "            with open(f'{file_dir}/{wiki}.json', mode='r') as f:\n",
    "                raw = json.load(f)\n",
    "            pass\n",
    "    \n",
    "    # Clean wiki data and convert into dataframe \n",
    "    \n",
    "    wiki_movies = [movie for movie in raw\n",
    "                   if ('Director' in movie or 'Directed by' in movie) \n",
    "                   and 'imdb_link' in movie\n",
    "                   and 'No. of episodes' not in movie]\n",
    "    \n",
    "    def clean_movie(movie):\n",
    "        alt_titles ={}\n",
    "        # Combine altenative titles into one list 'alt_titles' \n",
    "        for key in ['Also known as','Arabic','Cantonese','Chinese','French',\n",
    "                    'Hangul','Hebrew','Hepburn','Japanese','Literally',\n",
    "                    'Mandarin','McCune–Reischauer','Original title','Polish',\n",
    "                    'Revised Romanization','Romanized','Russian',\n",
    "                    'Simplified','Traditional','Yiddish']:\n",
    "            if key in movie:\n",
    "                alt_titles[key] = movie[key]\n",
    "                movie.pop(key)\n",
    "        if len(alt_titles) > 0:\n",
    "            movie['alt_titles'] = alt_titles\n",
    "   \n",
    "    # Merge similar columns name\n",
    "        def change_column_name(old_name, new_name):\n",
    "            if old_name in movie:\n",
    "                movie[new_name] = movie.pop(old_name)\n",
    "        change_column_name('Adaptation by', 'Writer(s)')\n",
    "        change_column_name('Country of origin', 'Country')\n",
    "        change_column_name('Directed by', 'Director')\n",
    "        change_column_name('Distributed by', 'Distributor')\n",
    "        change_column_name('Edited by', 'Editor(s)')\n",
    "        change_column_name('Length', 'Running time')\n",
    "        change_column_name('Original release', 'Release date')\n",
    "        change_column_name('Music by', 'Composer(s)')\n",
    "        change_column_name('Produced by', 'Producer(s)')\n",
    "        change_column_name('Producer', 'Producer(s)')\n",
    "        change_column_name('Productioncompanies ', 'Production company(s)')\n",
    "        change_column_name('Productioncompany ', 'Production company(s)')\n",
    "        change_column_name('Released', 'Release Date')\n",
    "        change_column_name('Release Date', 'Release date')\n",
    "        change_column_name('Screen story by', 'Writer(s)')\n",
    "        change_column_name('Screenplay by', 'Writer(s)')\n",
    "        change_column_name('Story by', 'Writer(s)')\n",
    "        change_column_name('Theme music composer', 'Composer(s)')\n",
    "        change_column_name('Written by', 'Writer(s)')\n",
    "    \n",
    "        # Return output\n",
    "        return movie\n",
    "        \n",
    "    \n",
    "    clean_movies = [clean_movie(movie) for movie in wiki_movies]\n",
    "    wiki_movies_df = pd.DataFrame(clean_movies)\n",
    "    print('wiki data converted')"
   ]
  },
  {
   "cell_type": "code",
   "execution_count": 240,
   "metadata": {},
   "outputs": [
    {
     "name": "stdout",
     "output_type": "stream",
     "text": [
      "kaggle data converted\n",
      "wiki data converted\n"
     ]
    }
   ],
   "source": [
    "etl_auto('wikipedia_movies','movies_metadata')"
   ]
  },
  {
   "cell_type": "code",
   "execution_count": null,
   "metadata": {},
   "outputs": [],
   "source": []
  }
 ],
 "metadata": {
  "kernelspec": {
   "display_name": "PythonData",
   "language": "python",
   "name": "pythondata"
  },
  "language_info": {
   "codemirror_mode": {
    "name": "ipython",
    "version": 3
   },
   "file_extension": ".py",
   "mimetype": "text/x-python",
   "name": "python",
   "nbconvert_exporter": "python",
   "pygments_lexer": "ipython3",
   "version": "3.7.7"
  }
 },
 "nbformat": 4,
 "nbformat_minor": 4
}
